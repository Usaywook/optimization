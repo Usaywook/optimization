{
 "cells": [
  {
   "cell_type": "markdown",
   "metadata": {},
   "source": [
    "# LU Decomposition"
   ]
  },
  {
   "cell_type": "code",
   "execution_count": 1,
   "metadata": {},
   "outputs": [],
   "source": [
    "import numpy as np\n",
    "np.set_printoptions(precision=1)"
   ]
  },
  {
   "cell_type": "markdown",
   "metadata": {},
   "source": [
    "최소제곱법은 $Ax = B$ 문제를 풀기위해서 $x = (A^{T}A)^{-1}A^{T}B$ 로 해를 구한다. 그런데 부동소수점에 의한 반올림 오차로인해서 사실 $A^{T}A$가 가역적인데 비가역적으로 되어 문제를 풀수없는 경우가 발생하게 된다. 아래가 그 예시이다. 이론적으론 가역적이지만 비가역적이 된다. 이러한경우 A^{T}A를 계산하지 않는 LU분해 혹은 QR분해를 통해 문제를 풀 수 있다.\n",
    "[example](https://m.blog.naver.com/ldj1725/221221847744)"
   ]
  },
  {
   "cell_type": "code",
   "execution_count": 2,
   "metadata": {},
   "outputs": [
    {
     "name": "stdout",
     "output_type": "stream",
     "text": [
      "[[1. 1.]\n",
      " [1. 1.]]\n"
     ]
    }
   ],
   "source": [
    "A = np.array([[1,1],[1e-5, 0],[0, 1e-5]])\n",
    "print(A.T@A)"
   ]
  },
  {
   "cell_type": "markdown",
   "metadata": {},
   "source": [
    "## 이론\n",
    "연립 선형 방정식 Ax = b를 풀때 가우스 소거 (Gaussian Elimination) 방법을 통해서 문제를 효율적으로 풀 수 있다.  \n",
    "정사각행렬 A에 기본행 연산을 하여 얻은 사다리꼴 REF(row echelon form)로 만들면 상삼각행렬 U(upper triangular matirx)를 얻을 수 있다.  \n",
    "A 를 REF로 만들기 위한 기본행 연산들은 모두 하 삼각행렬 U(Lower triangular matirx) 이며 역행렬이 존재한다.   \n",
    "이러한 기본행 연산들 곱에 대한 역함수를 L로 두면 A를 LU로 분해 할 수 있다.  \n",
    "LU 분해의 유일성에 대해서는 [이곳](https://ghebook.blogspot.com/2020/07/gaussian-elimination.html) 을 참조하도록 하자.  \n",
    "결론적으로 LU 분해의 유일하게 되려면 A의 선행 주 부분 행렬 (leading principal submatrix) 들의 행렬식이 모두 0이 아니어야 한다.    \n",
    "그말은 U의 대각 요소에 0이 없어야 한다는 말과 같다.  \n",
    "순열행렬 P를 사용하여 A를 바꾸면 U의 대각 요소에 0이 없도록 만들 수 있다.  \n",
    "순열행렬을 통해 행 바꾸기만 하면 부분적 주축 (partial pivoting),  \n",
    "열 바꾸기도 하면 완전 주축 (full pivoting) 이라고 한다.  \n",
    "LU 분해를 하면 행렬연산을 쉽게할 수 있는 이점이 있다.  \n",
    "아래와 같은 성질을 이용하면 된다.   \n",
    "- 순열행렬 $P$의 역행렬은 전치$P^{T}$ 이다.  \n",
    "- 삼각 행렬의 행렬식은 대각선 원소의 곱이다\n",
    "- $|L|=1$ 이다.  \n",
    "- A 행렬식은 상삼각 행렬 U 에 있는 모든 대각선 원소의 곱이다.\n",
    "- U의 0이 아닌 대각 원소의 개수가 A의 Rank이다.\n",
    "- 대칭 행렬은 다음처럼 LU 분해할 수 있다.\n",
    " > $A = LDL^{T} = U^{T}DU$ 대칭 행렬의 LU 분해는 $L=U^{T}$를 만족한다.\n",
    "\n"
   ]
  },
  {
   "cell_type": "markdown",
   "metadata": {},
   "source": [
    "## Scipy 모듈\n",
    "$$\n",
    "A = PLU\n",
    "$$"
   ]
  },
  {
   "cell_type": "code",
   "execution_count": 3,
   "metadata": {},
   "outputs": [
    {
     "name": "stdout",
     "output_type": "stream",
     "text": [
      "A = [[2 5 8 7]\n",
      " [5 2 2 8]\n",
      " [7 5 6 6]\n",
      " [5 4 4 8]]\n",
      "P = [[0. 1. 0. 0.]\n",
      " [0. 0. 0. 1.]\n",
      " [1. 0. 0. 0.]\n",
      " [0. 0. 1. 0.]]\n",
      "L = [[ 1.   0.   0.   0. ]\n",
      " [ 0.3  1.   0.   0. ]\n",
      " [ 0.7  0.1  1.   0. ]\n",
      " [ 0.7 -0.4 -0.5  1. ]]\n",
      "U = [[ 7.   5.   6.   6. ]\n",
      " [ 0.   3.6  6.3  5.3]\n",
      " [ 0.   0.  -1.   3.1]\n",
      " [ 0.   0.   0.   7.5]]\n"
     ]
    },
    {
     "data": {
      "text/plain": [
       "True"
      ]
     },
     "execution_count": 3,
     "metadata": {},
     "output_type": "execute_result"
    }
   ],
   "source": [
    "from scipy .linalg import lu\n",
    "\n",
    "A = np.array([[2, 5, 8, 7], [5, 2, 2, 8], [7, 5, 6, 6], [5, 4, 4, 8]])\n",
    "[p, l, u] = lu(A)\n",
    "print(\"A = {}\".format(A))\n",
    "print(\"P = {}\".format(p))\n",
    "print(\"L = {}\".format(l))\n",
    "print(\"U = {}\".format(u))\n",
    "np.allclose(A, p@l@u)"
   ]
  },
  {
   "cell_type": "markdown",
   "metadata": {},
   "source": [
    "## LU dompostion solver\n",
    "A가 dense해야 해의 유일성 조건을 만족하기 쉽다.  \n",
    "그래서 A 가 dense한 경우 그리고 Ax=b에서 b만 달라지는 경우에 주로 사용된다.  \n",
    "\n",
    "$$\n",
    "PAx = LUx = Pb \n",
    "$$\n",
    "\n",
    "위의 식을 풀기 위해서 2단계 과정을 거친다.  \n",
    "$y = Ux$ 로두고 $Ly =pb$ 를 $y$에 대해서 푸는 전진대입과  \n",
    "$Ux = y$를 x에 대해서 푸는 후진대입을 하면된다.  \n",
    "b만 바뀐다면 매번 가우스 소거법을 통해서 x를 구하는 것에 비해 간단하게 문제를 풀 수 있다.  \n",
    "$L x = b$ 에서 [전진대입의 해](https://ko.wikipedia.org/wiki/%EC%82%BC%EA%B0%81%ED%96%89%EB%A0%AC)는 다음과 같다.\n",
    "$$\n",
    "x_{m}={{b_{m}-\\left(\\sum _{i=1}^{m-1}\\ell _{m,i}x_{i}\\right)} \\over {\\ell _{m,m}}}\n",
    "$$\n",
    "$U x = b$ 에서 후진대입의 해는 다음과 같다.\n",
    "$$\n",
    "x_{m}={{b_{m}-\\left(\\sum _{i=1}^{n-m} u _{m,m+i} x_{m+i}\\right)} \\over { u_{m,m}}}\n",
    "$$"
   ]
  },
  {
   "cell_type": "code",
   "execution_count": 4,
   "metadata": {},
   "outputs": [
    {
     "name": "stdout",
     "output_type": "stream",
     "text": [
      "L=[[ 1.   0.   0.   0. ]\n",
      " [ 0.3  1.   0.   0. ]\n",
      " [ 0.7  0.1  1.   0. ]\n",
      " [ 0.7 -0.4 -0.5  1. ]]\n",
      "U=[[ 7.   5.   6.   6. ]\n",
      " [ 0.   3.6  6.3  5.3]\n",
      " [ 0.   0.  -1.   3.1]\n",
      " [ 0.   0.   0.   7.5]]\n",
      "x=[ 0.1 -0.1  0.1  0.1]\n"
     ]
    },
    {
     "data": {
      "text/plain": [
       "True"
      ]
     },
     "execution_count": 4,
     "metadata": {},
     "output_type": "execute_result"
    }
   ],
   "source": [
    "from scipy.linalg import lu_factor, lu_solve\n",
    "\n",
    "b = np.array([1, 1, 1, 1])\n",
    "lu, piv = lu_factor(A)\n",
    "x = lu_solve((lu, piv), b)\n",
    "L, U = np.tril(lu, k=-1) + np.eye(4), np.triu(lu)\n",
    "print('L={}'.format(L))\n",
    "print('U={}'.format(U))\n",
    "print('x={}'.format(x))\n",
    "np.allclose(A @ x - b, np.zeros((4,)))"
   ]
  },
  {
   "cell_type": "code",
   "execution_count": 5,
   "metadata": {},
   "outputs": [
    {
     "data": {
      "text/plain": [
       "True"
      ]
     },
     "execution_count": 5,
     "metadata": {},
     "output_type": "execute_result"
    }
   ],
   "source": [
    "def ForwardSub(L, b):\n",
    "    x = np.zeros_like(b)\n",
    "    for m in range(len(x)):\n",
    "        tmp = 0\n",
    "        for i in range(m):\n",
    "            tmp += L[m][i] * x[i]\n",
    "        x[m] = (b[m] - tmp) / L[m][m]\n",
    "    return x\n",
    "\n",
    "def BackwardSub(U,b):\n",
    "    x = np.zeros_like(b)\n",
    "    n = len(b)\n",
    "    for m in range(n - 1, -1, -1):\n",
    "        tmp = 0\n",
    "        for i in range(n - m):\n",
    "            tmp += U[m][m+i] * x[m + i]\n",
    "        x[m] = (b[m] - tmp) / U[m][m]\n",
    "    return x\n",
    "\n",
    "np.allclose(BackwardSub(U, ForwardSub(L,p@b)), x)"
   ]
  },
  {
   "cell_type": "markdown",
   "metadata": {},
   "source": [
    "Doolittle Algorithm for lu decomposition\n",
    "\n",
    "$$\n",
    "u_{ij} = \n",
    "\\begin{cases} \n",
    "a_{ij} & i = 0 , \\forall j \\\\\n",
    "a_{ij} - \\sum_{k=0}^{i-1}l_{ik}u_{kj} & i > 0, \\forall j\n",
    "\\end{cases}\n",
    "$$\n",
    "\n",
    "$$\n",
    "l_{ij} = \n",
    "\\begin{cases}\n",
    "\\frac{a_{ij}}{u_{jj}}  &  j = 0 , \\forall i \\\\\n",
    "\\frac{a_{ij} - \\sum_{k=0}^{j-1} l_{ik}u_{kj} } {u_{jj}} & j > 0, \\forall i\n",
    "\\end{cases}\n",
    "$$"
   ]
  },
  {
   "cell_type": "code",
   "execution_count": 6,
   "metadata": {},
   "outputs": [
    {
     "name": "stdout",
     "output_type": "stream",
     "text": [
      "Lower Triangular\t\tUpper Triangular\n",
      "1\t0\t0\t\t2\t-1\t-2\t\n",
      "-2\t1\t0\t\t0\t4\t-1\t\n",
      "-2\t-1\t1\t\t0\t0\t3\t\n"
     ]
    }
   ],
   "source": [
    "# Python3 Program to decompose\n",
    "# a matrix into lower and\n",
    "# upper traingular matrix\n",
    "MAX = 100\n",
    " \n",
    "\n",
    "def luDecomposition(mat, n):\n",
    " \n",
    "    lower = [[0 for x in range(n)]\n",
    "             for y in range(n)]\n",
    "    upper = [[0 for x in range(n)]\n",
    "             for y in range(n)]\n",
    " \n",
    "    # Decomposing matrix into Upper\n",
    "    # and Lower triangular matrix\n",
    "    for i in range(n):\n",
    " \n",
    "        # Upper Triangular\n",
    "        for k in range(i, n):\n",
    " \n",
    "            # Summation of L(i, j) * U(j, k)\n",
    "            sum = 0\n",
    "            for j in range(i):\n",
    "                sum += (lower[i][j] * upper[j][k])\n",
    " \n",
    "            # Evaluating U(i, k)\n",
    "            upper[i][k] = mat[i][k] - sum\n",
    " \n",
    "        # Lower Triangular\n",
    "        for k in range(i, n):\n",
    "            if (i == k):\n",
    "                lower[i][i] = 1  # Diagonal as 1\n",
    "            else:\n",
    " \n",
    "                # Summation of L(k, j) * U(j, i)\n",
    "                sum = 0\n",
    "                for j in range(i):\n",
    "                    sum += (lower[k][j] * upper[j][i])\n",
    " \n",
    "                # Evaluating L(k, i)\n",
    "                lower[k][i] = int((mat[k][i] - sum) /\n",
    "                                  upper[i][i])\n",
    " \n",
    "    # setw is for displaying nicely\n",
    "    print(\"Lower Triangular\\t\\tUpper Triangular\")\n",
    " \n",
    "    # Displaying the result :\n",
    "    for i in range(n):\n",
    " \n",
    "        # Lower\n",
    "        for j in range(n):\n",
    "            print(lower[i][j], end=\"\\t\")\n",
    "        print(\"\", end=\"\\t\")\n",
    " \n",
    "        # Upper\n",
    "        for j in range(n):\n",
    "            print(upper[i][j], end=\"\\t\")\n",
    "        print(\"\")\n",
    "        \n",
    "    return lower, upper\n",
    " \n",
    "# Driver code\n",
    "mat = [[2, -1, -2],\n",
    "       [-4, 6, 3],\n",
    "       [-4, -2, 8]]\n",
    " \n",
    "L, U = luDecomposition(mat, 3)"
   ]
  },
  {
   "cell_type": "markdown",
   "metadata": {},
   "source": [
    "# Toy Example"
   ]
  },
  {
   "cell_type": "code",
   "execution_count": 24,
   "metadata": {},
   "outputs": [
    {
     "name": "stdout",
     "output_type": "stream",
     "text": [
      "Lower Triangular\t\tUpper Triangular\n",
      "1\t0\t0\t0\t\t8\t140\t3500\t98000\t\n",
      "17\t1\t0\t0\t\t0\t1120\t38500\t1256500\t\n",
      "437\t32\t1\t0\t\t0\t0\t161000\t7616000\t\n",
      "12250\t1078\t38\t1\t\t0\t0\t0\t43397500\t\n"
     ]
    },
    {
     "data": {
      "text/plain": [
       "<matplotlib.legend.Legend at 0x7fcfabb76d50>"
      ]
     },
     "execution_count": 24,
     "metadata": {},
     "output_type": "execute_result"
    },
    {
     "data": {
      "image/png": "[encoded data removed]",
      "text/plain": [
       "<Figure size 432x288 with 1 Axes>"
      ]
     },
     "metadata": {
      "needs_background": "light"
     },
     "output_type": "display_data"
    }
   ],
   "source": [
    "import matplotlib.pyplot as plt \n",
    "import time\n",
    "\n",
    "# Least Square\n",
    "x = [0, 5, 10, 15, 20, 25, 30, 35]\n",
    "y = [0, 0, 0, 1.75, 3.5, 3.5, 3.5, 3.5]\n",
    "A = np.array([np.ones_like(x), x, np.power(x,2), np.power(x,3)]).T\n",
    "B = y\n",
    "plt.axis('equal')\n",
    "plt.scatter(x,y, color='r')\n",
    "\n",
    "p_time = time.time()\n",
    "w = np.linalg.inv(A.T@A)@A.T@B\n",
    "x = np.linspace(0,35,100)\n",
    "A = np.array([np.ones_like(x), x, np.power(x,2), np.power(x,3)]).T\n",
    "y = A@w\n",
    "plt.plot(x,y, label='LS: {:.5f}'.format(time.time()- p_time), alpha=0.5)\n",
    "\n",
    "# LU Decomposition\n",
    "x = [0, 5, 10, 15, 20, 25, 30, 35]\n",
    "y = [0, 0, 0, 1.75, 3.5, 3.5, 3.5, 3.5]\n",
    "A = np.array([np.ones_like(x), x, np.power(x,2), np.power(x,3)]).T\n",
    "B = y\n",
    "\n",
    "p_time = time.time()\n",
    "L,U = luDecomposition(A.T@A, 4)\n",
    "w = BackwardSub(U, ForwardSub(L,A.T@B))\n",
    "y = A@w\n",
    "plt.plot(x,y, label='LU : {:.5f}'.format(time.time()- p_time), alpha=0.5)\n",
    "\n",
    "# QR Decomposition with Gramshcmidt\n",
    "def gramshcmidt(A, n):\n",
    "    Q = np.zeros_like(A,dtype=float) # int형으로 되면 반올림 오차가 심함\n",
    "    for k in range(n):\n",
    "        tmp = 0        \n",
    "        for i in range(k):             \n",
    "            tmp += (np.dot(A[:,k], Q[:,i]) / np.dot(Q[:,i], Q[:,i])) * Q[:,i]\n",
    "        Q[:,k] = A[:,k] - tmp\n",
    "        Q[:,k] = Q[:,k] / np.sqrt(np.dot(Q[:,k],Q[:,k]))\n",
    "    return Q\n",
    "\n",
    "x = [0, 5, 10, 15, 20, 25, 30, 35]\n",
    "y = [0, 0, 0, 1.75, 3.5, 3.5, 3.5, 3.5]\n",
    "A = np.array([np.ones_like(x), x, np.power(x,2), np.power(x,3)]).T\n",
    "B = y\n",
    "\n",
    "p_time = time.time()\n",
    "Q = gramshcmidt(A,4)\n",
    "R = Q.T @ A\n",
    "w = BackwardSub(R, Q.T@B)\n",
    "y = A@w\n",
    "plt.plot(x,y, label='QR_g : {:.5f}'.format(time.time()- p_time), alpha=0.5)\n",
    "\n",
    "# QR Decomposition with householder\n",
    "import copy\n",
    "def household(A):\n",
    "    \"\"\"\n",
    "    returns Q.T\n",
    "    \"\"\"\n",
    "    n = A.shape[1]\n",
    "    Q = np.eye(len(A), dtype=float)\n",
    "    B = copy.deepcopy(A)\n",
    "    for i in range(n):\n",
    "        B = (Q@A)[i:,i:]\n",
    "        v = B[:,0]\n",
    "        w = np.zeros_like(v, dtype=float)\n",
    "        w[0] = np.sqrt(np.dot(v,v))\n",
    "        a = v-w\n",
    "        a = a.reshape(len(a),1)\n",
    "        H = np.eye(len(a), dtype=float) - 2.0 / np.dot(a.T, a) * a @ a.T\n",
    "        K = np.eye(len(A), dtype=float)\n",
    "        K[i:,i:] = H\n",
    "        Q = K@Q        \n",
    "    return Q\n",
    "\n",
    "x = [0, 5, 10, 15, 20, 25, 30, 35]\n",
    "y = [0, 0, 0, 1.75, 3.5, 3.5, 3.5, 3.5]\n",
    "A = np.array([np.ones_like(x), x, np.power(x,2), np.power(x,3)]).T\n",
    "B = y\n",
    "\n",
    "p_time = time.time()\n",
    "Q_t = household(A)\n",
    "R = Q_t@A\n",
    "w = BackwardSub(R, Q.T@B)\n",
    "y = A@w\n",
    "plt.plot(x,y, label='QR_h : {:.5f}'.format(time.time()- p_time), alpha=0.5)\n",
    "\n",
    "plt.legend()"
   ]
  },
  {
   "cell_type": "markdown",
   "metadata": {},
   "source": [
    "## Reference\n",
    "[LU분해 이론](https://ghebook.blogspot.com/2020/07/gaussian-elimination.html)  \n",
    "[이론 예제](https://wikidocs.net/75791)  \n",
    "[scipy decompostion](https://docs.scipy.org/doc/scipy/reference/generated/scipy.linalg.lu.html)  \n",
    "[scipy lu composition solver](https://docs.scipy.org/doc/scipy/reference/generated/scipy.linalg.lu.html)  \n",
    "[Doolittle Algorithm for lu decomposition](https://www.geeksforgeeks.org/doolittle-algorithm-lu-decomposition/)  "
   ]
  }
 ],
 "metadata": {
  "kernelspec": {
   "display_name": "Python 3",
   "language": "python",
   "name": "python3"
  },
  "language_info": {
   "codemirror_mode": {
    "name": "ipython",
    "version": 3
   },
   "file_extension": ".py",
   "mimetype": "text/x-python",
   "name": "python",
   "nbconvert_exporter": "python",
   "pygments_lexer": "ipython3",
   "version": "3.7.4"
  }
 },
 "nbformat": 4,
 "nbformat_minor": 4
}
