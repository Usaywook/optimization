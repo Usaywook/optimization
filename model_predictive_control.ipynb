{
 "cells": [
  {
   "cell_type": "markdown",
   "metadata": {},
   "source": [
    "# Model Predictive Control"
   ]
  },
  {
   "cell_type": "code",
   "execution_count": 1,
   "metadata": {},
   "outputs": [],
   "source": [
    "import numpy as np\n",
    "np.set_printoptions(precision=2, suppress=True)\n",
    "from matplotlib import pyplot as plt\n",
    "import pdb\n",
    "%matplotlib inline\n",
    "\n",
    "# 1. magic to print version\n",
    "# 2. magic so that the notebook will reload external python modules\n",
    "# %load_ext watermark\n",
    "%load_ext autoreload\n",
    "%autoreload 2"
   ]
  },
  {
   "cell_type": "markdown",
   "metadata": {},
   "source": [
    "## Model equations\n",
    "\n",
    " - 고려해야할 요소\n",
    "1. Gravity, Inertia\n",
    "2. Road surface friction\n",
    "3. Vehicle wieght variation\n",
    "  \n",
    " - state variables  \n",
    "$(x, y, \\psi, v, cte, e\\psi)$.로 6 가지 변수로 구성된다.  \n",
    "Cross Track Error ($cte$), Heading angle error ($e\\psi$)\n",
    "  \n",
    " - kinematics and dynamic mathematical model equations 에 근거한 system dynamics는 아래와 같이 표현된다.   \n",
    "  \n",
    "$$\n",
    "\\begin{align}\n",
    "X(t+1) &= X(t) + V(t) \\;cos(\\psi(t) ) \\;dt \\\\\n",
    "Y(t+1) &= Y(t) + V(t) \\;sin(\\psi(t) ) \\;dt \\\\\n",
    "\\psi(t+1) &= \\psi(t) + \\frac{V(t)}{Lf} \\; \\delta(t) \\; dt \\\\\n",
    "V(t+1) &= V(t) + a(t) \\; dt \\\\\n",
    "cte(t+1) &= cte(t) + \\Delta Y(t)  \\\\\n",
    "&= f(x(t)) - Y(t) + V(t) \\; sin(\\psi(t)) \\;dt \\\\\n",
    "e\\psi(t+1) &= e\\psi(t) + \\Delta \\psi(t) \\\\\n",
    "&= \\psi(t) - \\nabla f(x(t)) + \\frac{V(t)}{Lf} \\; \\delta(t) \\; dt \n",
    "\\end{align}\n",
    "$$\n",
    "\n",
    "<img src=\"https://static.wixstatic.com/media/850e97_29716bdc4dd9433099e5bf002d54952c~mv2.png/v1/fill/w_600,h_348,al_c,q_85,usm_0.66_1.00_0.01/850e97_29716bdc4dd9433099e5bf002d54952c~mv2.webp\" width=500>\n",
    "  \n",
    " - 자동차는 nonholonomic system 이기 때문에 action에 다음과 같은 physical constraint를 갖는다.\n",
    "  \n",
    "$$\n",
    "\\begin{align}\n",
    "- 40^{\\circ} < \\; &\\delta \\;< 40^{\\circ} \\\\\n",
    "- 1 < \\; &Throttle \\;< 1 \\\\\n",
    "0 < \\; &Speed \\;< speedlimit\n",
    "\\end{align}\n",
    "$$"
   ]
  },
  {
   "cell_type": "markdown",
   "metadata": {},
   "source": [
    "## Trajectory costs\n",
    "  \n",
    "주어진 trajectory를 시뮬레이션 해보고 cost를 계산해서 가장 작은 cost를 갖는 actuator의 command를 찾아야한다.  \n",
    "cost 계산에는 아래와 같은 3가지 규칙이 있다.\n",
    " \n",
    "1. desired state와 current state간의 차이\n",
    "$$\n",
    "\\sum_{t=1}^{N} w_{cte} \\;cte^{2}_{t} + w_{e\\psi} \\;e\\psi^{2}_{t} + w_{v} \\;(V_{t} - V_{ref})^{2}\n",
    "$$\n",
    "2. throttle 과 steering 의 사용 \n",
    "$$\n",
    "\\sum_{t=1}^{N} w_{\\delta} \\; \\delta^{2}_{t} + w_{a} \\; a^{2}_{t}\n",
    "$$\n",
    "3. throttle 과 steering 의 변화량\n",
    "$$\n",
    "\\sum_{t=1}^{N} w_{\\Delta \\delta} \\; (\\delta_{t+1} -\\delta_{t})^{2} + w_{\\Delta a} \\; (a_{t+1} - a_{t})^{2}\n",
    "$$\n",
    "\n",
    "### System parameter\n",
    "총 system parameter 는 9가지로 다음과 같다.  \n",
    "penalty에 대한 weight 은 7가지이다.  \n",
    "  \n",
    "$$\n",
    "\\bigg[w_{cte}, w_{e\\psi}, w_{v},  w_{\\delta},  w_{a}, w_{\\Delta \\delta}, w_{\\Delta a}\\bigg]\n",
    "$$\n",
    "  \n",
    "그리고 나머지 2가지 N 과 dt는 다음과 같은 성질을 가진다. \n",
    "  \n",
    " - N 이 작다면 short term planning 이기 때문에 overshooting과 instability에 문제가 발생한다.\n",
    " - N 이 크다면 computational cost가 증가하기 때문에 FPS가 증가하여 대응이 늦어진다.\n",
    " - dt 가 크다면 필요한 control command가 늦어지기 때문에 대응이 늦어진다.\n",
    " - dt 작다면 actuator가 반응하기 전에 control이 주어지기 때문에 flunctuation 이 발생한다.\n",
    "  \n",
    "system settling time (system latency) 가 약 100ms가 걸린다고 했을 때 dt는 이 보다 더 크게 설정해야하기 때문에 120ms 정도로 설정한다.  \n",
    "그리고 desired speed가 30km/h (8.3m/s) 라고 생각 했을 때 약 10m 정도 앞까지 cost를 고려하려면 \n",
    "$$\n",
    "N = \\frac{10}{8.3 \\times 0.12} \\approx 10\n",
    "$$\n",
    "으로 설정하면 적절하다."
   ]
  },
  {
   "cell_type": "markdown",
   "metadata": {},
   "source": [
    "## MPC process\n",
    "  \n",
    "다음과 같은 과정으로 진행된다.\n",
    "\n",
    "1. trajectory paths 를 the vehicle-centric reference frame 으로 바꾼다.\n",
    "    > subscribe 한 경로 좌표계는 오른손 좌표이므로 변환할 필요 없고, 자차의 위치및 heading angle은 오른손좌표로 변환 필요.\n",
    "2. polynormial function 으로 주어진 path를 fitting힌다.\n",
    "    > 자차 기준 5미터 전후의 point들을 가져와서 fitting해야 안정적인 fitting이 됨.\n",
    "3. $cte$ 와 $e\\psi$ 를 계산하여 현 스텝에 대한 state error를 구한다.\n",
    "4. model variable을 초기화하고 각 변수에 constraint 에 맞는 limit 을 할당한다.\n",
    "    > 무게중심은 대략적으로 전장의 4:6 정도 비율을 갖음 이값을 기준으로 값을 바꿔가면서 oversteering 이나 understeering이 나지 않도록 조정.\n",
    "5. system constraint와 physics constriant 를 고려하여 tracjectory cost를 optimize 하는 N step의 control command를 구한다.\n",
    "6. optmize한 첫번째 command를 실행한다."
   ]
  },
  {
   "cell_type": "markdown",
   "metadata": {},
   "source": [
    "## Reference  \n",
    "  \n",
    "[MPC](https://www.haidynmcleod.com/model-predictive-controller)  \n",
    "[Lateral Dynamic Equations of Vehicle](https://m.blog.naver.com/jjz0426/221135413776)  \n",
    "[Path tracking algorithm 비교](https://www.ri.cmu.edu/pub_files/2009/2/Automatic_Steering_Methods_for_Autonomous_Automobile_Path_Tracking.pdf)"
   ]
  }
 ],
 "metadata": {
  "kernelspec": {
   "display_name": "cvxpy",
   "language": "python",
   "name": "cvxpy"
  },
  "language_info": {
   "codemirror_mode": {
    "name": "ipython",
    "version": 3
   },
   "file_extension": ".py",
   "mimetype": "text/x-python",
   "name": "python",
   "nbconvert_exporter": "python",
   "pygments_lexer": "ipython3",
   "version": "3.6.9"
  }
 },
 "nbformat": 4,
 "nbformat_minor": 4
}
