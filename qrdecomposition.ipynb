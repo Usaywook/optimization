{
 "cells": [
  {
   "cell_type": "markdown",
   "metadata": {},
   "source": [
    "# QR Decomposition\n",
    "\n",
    "백터공간의 정규 직교 기저를 만드는 방법으로 활용되는 QR 분해를 배워보자.   \n",
    "QR 분해란 열벡터가 서로 선형독립인 행렬 A를 열벡터가 정규 직교 기저로 이루어진 Q 와 상 삼각행렬인 R의 곱으로 나타내는 것이다.    \n",
    "열벡터가 선형독립인 A에 그람-슈미트 과정을 적용하여 정규 직교 기저들을 찾는다.  \n",
    "A의 열벡터들을 $(a_{1}, ...,a_{n})$이라고 하고, 정규 직교 기저들을$q_{1},...,q_{n}$이라고 하자.  \n",
    "A의 각 열벡터를 위에서 찾는 정규 직교 기저들의 선형 결합으로 나타내면 다음과 같다.  \n",
    "$$\n",
    "a_{k} = \\sum_{i=1}^{k}(a_{k}^{T}q_{i})q_{i}\n",
    "$$\n",
    "  \n",
    "위의 식을 매트릭스 표현으로 나타내면 다음과 같다.  \n",
    "\n",
    "$$\n",
    "\\begin{align}\n",
    "    \\begin{bmatrix}\n",
    "    a_{1} & \\cdots & a_{n} \n",
    "    \\end{bmatrix}\n",
    "    &= \\begin{bmatrix}\n",
    "    q_{1} & \\cdots & q_{n}\n",
    "    \\end{bmatrix}\n",
    "    \\begin{bmatrix}\n",
    "    a_{1}^{T}q_{1} & a_{2}^{T}q_{1} &\\cdots & a_{n}^{T}q_{1} \\\\\n",
    "    0 & a_{2}^{T}q_{2} &\\cdots & a_{n}^{T}q_{2} \\\\\n",
    "    \\vdots & \\vdots & \\ddots & \\vdots \\\\\n",
    "    0 & 0 &\\cdots & a_{n}^{T}q_{n} \\\\\n",
    "    \\end{bmatrix} \\\\\n",
    "A &= QR\n",
    "\\end{align}\n",
    "$$\n",
    "\n",
    "Q는 그람 슈미트 과정을 통해 구할 수 있고 $R = Q^{T}A$ 로 구할 수 있다.  \n",
    "그람 슈미트 과정은 나눗셈과 유사하기 때문에 몫을 의미하는 Q (quotient)와 나머지를 의미하는 R (remainder)로 표기한다.  "
   ]
  },
  {
   "cell_type": "markdown",
   "metadata": {},
   "source": [
    "### gram schcmidt orthgonalization\n",
    "$$\n",
    "\\begin{align}\n",
    "q_{k} &= a_{k} - \\sum_{i=0}^{k-1} \\mathcal{proj}_{q_{i}}a_{k} &,for\\; k = 0,\\dots,n-1 \\\\\n",
    "&= a_{k} - \\sum_{i=0}^{k-1} \\frac{<a_{k}, q_{i}>}{<q_{i}, q_{i}>}q_{i}\n",
    "\\end{align}\n",
    "$$"
   ]
  },
  {
   "cell_type": "code",
   "execution_count": 1,
   "metadata": {},
   "outputs": [],
   "source": [
    "import numpy as np\n",
    "import matplotlib.pyplot as plt\n",
    "np.set_printoptions(precision=2, suppress=True)\n",
    "import pdb\n",
    "import copy "
   ]
  },
  {
   "cell_type": "code",
   "execution_count": 2,
   "metadata": {},
   "outputs": [
    {
     "name": "stdout",
     "output_type": "stream",
     "text": [
      "Q = [[-0.9  -0.42  0.08]\n",
      " [-0.3   0.76  0.57]\n",
      " [ 0.3  -0.49  0.82]]\n",
      "R = [[ 3.32 -3.92 -0.9 ]\n",
      " [ 0.    3.69 -0.15]\n",
      " [ 0.    0.    1.47]]\n"
     ]
    },
    {
     "data": {
      "text/plain": [
       "True"
      ]
     },
     "execution_count": 2,
     "metadata": {},
     "output_type": "execute_result"
    }
   ],
   "source": [
    "def gramschmitz(A, n):\n",
    "    Q = np.zeros_like(A,dtype=float) # int형으로 되면 반올림 오차가 심함\n",
    "    for k in range(n):\n",
    "        tmp = 0        \n",
    "        for i in range(k):             \n",
    "            tmp += (np.dot(A[:,k], Q[:,i]) / np.dot(Q[:,i], Q[:,i])) * Q[:,i]\n",
    "        Q[:,k] = A[:,k] - tmp\n",
    "        Q[:,k] = Q[:,k] / np.sqrt(np.dot(Q[:,k],Q[:,k]))\n",
    "    return Q\n",
    "\n",
    "A = np.array([[-3,-1,1],[2,4,-3],[1,1,1]]).T\n",
    "Q = gramschmitz(A,3)\n",
    "R = Q.T @ A\n",
    "print(\"Q = {}\".format(Q))\n",
    "print(\"R = {}\".format(R))\n",
    "np.allclose(A, Q@R)"
   ]
  },
  {
   "cell_type": "markdown",
   "metadata": {},
   "source": [
    "## 단점\n",
    "  \n",
    "그람 슈미트 과정에 나눗셈이 존재하므로 부동소수점 연산에서 발생하는 오차의 누적으로 Q가 직교성을 잃게 되어서 수치적으로 불안정하다. 또한 A의 열벡터들에도 마찬가지로 부동소수점으로 인한 직교성 손실의 문제가 있다. 이러한 문제를 다루기 위해서 반사를 기반으로 한 하우스홀더 방법과 회전을 기반으로 한 기븐스 회전 방법이 고안되었다.\n",
    "\n",
    "## 하우스홀더 방법\n",
    "\n",
    "부동소수점 연산에서도 오차가 누적을 제거할 수있기 때문에 실제로는 그람슈미트 과정보다는 주로 이방법을 통해서 QR분해를 한다.  \n",
    "그람-슈미트 과정은 Q의 열벡터를 찾고 다시 R의 열벡터를 n step까지 구한다. k번째 스텝에서 Q의 k번째 백터와 R의 K번째 행백터를 구하면 누적에러로 인한 Q의 직교성 손실을 방지 할 수 있다.  \n",
    "    \n",
    "하우스 홀더 변환은 임의의 벡터를 한 요소만 그 벡터의 크기의 값으로 존재하며 나머지 요소들이 0 인 벡터로 변환하는 반사행렬이다. 이를 이용하면 그람슈미트 과정없이 A를 상삼각행렬로 만들 수 있다. A 첫번째 열벡터의 첫째항을 제외하고 0을 만드는 반사행렬 $H_{1}$을 찾고 직교행렬 $Q_{1}$를 만들어 A에 곱한다. 이후 다시 $Q_{1}A$의 부분행렬에서 첫째항을 제외하고 0을 만드는 반사행렬 $H_{2}$을 찾고 직교행렬  $Q_{2}$ 을 만들어 $Q_{1}A_{1}$에 곱한다. 이를 상삼각행렬이 될 때 까지 이행하면 A를 QR분해할 수 있다. 분해 유일성에 대한 조건은 A의 열벡터들이 선형독립이면 된다. 즉, A가 열충족계수를 가지면 된다."
   ]
  },
  {
   "cell_type": "code",
   "execution_count": 3,
   "metadata": {},
   "outputs": [
    {
     "name": "stdout",
     "output_type": "stream",
     "text": [
      "R = [[ 3.32 -3.92 -0.9 ]\n",
      " [ 0.    3.69 -0.15]\n",
      " [-0.    0.    1.47]]\n",
      "Q = [[-0.9  -0.42  0.08]\n",
      " [-0.3   0.76  0.57]\n",
      " [ 0.3  -0.49  0.82]]\n"
     ]
    },
    {
     "data": {
      "text/plain": [
       "True"
      ]
     },
     "execution_count": 3,
     "metadata": {},
     "output_type": "execute_result"
    }
   ],
   "source": [
    "def household(A):\n",
    "    \"\"\"\n",
    "    returns Q.T\n",
    "    \"\"\"\n",
    "    n = A.shape[1]\n",
    "    Q = np.eye(len(A), dtype=float)\n",
    "    B = copy.deepcopy(A)\n",
    "    for i in range(n):\n",
    "        B = (Q@A)[i:,i:]\n",
    "        v = B[:,0]\n",
    "        w = np.zeros_like(v, dtype=float)\n",
    "        w[0] = np.sqrt(np.dot(v,v))\n",
    "        a = v-w\n",
    "        a = a.reshape(len(a),1)\n",
    "        H = np.eye(len(a), dtype=float) - 2.0 / np.dot(a.T, a) * a @ a.T\n",
    "        K = np.eye(len(A), dtype=float)\n",
    "        K[i:,i:] = H\n",
    "        Q = K@Q        \n",
    "    return Q\n",
    "\n",
    "Q_t = household(A)\n",
    "R = Q_t@A\n",
    "print('R = {}'.format(R))\n",
    "print('Q = {}'.format(Q_t.T))\n",
    "np.allclose(A, Q_t.T@R)"
   ]
  },
  {
   "cell_type": "markdown",
   "metadata": {},
   "source": [
    "## 기븐스 회전 방법\n",
    "\n",
    "R의 특정위치에서 성분값을 0 으로 조작할 수 있는 방법이다."
   ]
  },
  {
   "cell_type": "markdown",
   "metadata": {},
   "source": [
    "## 연립방정식 풀기\n",
    "LU분해와 유사하게 QR분해를 사용하면 1차 연립방정식을 효과적으로 풀 수 있다.\n",
    "$$\n",
    "\\begin{align}\n",
    "Ax = B \\\\\n",
    "QRx = B \\\\\n",
    "Rx = Q^{T}B = C\n",
    "\\end{align}  \n",
    "$$\n",
    "후진대입을 통해서 해를 구할 수 있다."
   ]
  },
  {
   "cell_type": "code",
   "execution_count": 4,
   "metadata": {},
   "outputs": [
    {
     "name": "stdout",
     "output_type": "stream",
     "text": [
      "R = [[10.15  7.39  8.67 13.4 ]\n",
      " [-0.    3.92  6.61  3.56]\n",
      " [ 0.    0.    1.07  0.25]\n",
      " [ 0.    0.    0.    4.55]]\n",
      "Q = [[ 0.2   0.9   0.3   0.23]\n",
      " [ 0.49 -0.42  0.46  0.61]\n",
      " [ 0.69 -0.02  0.17 -0.7 ]\n",
      " [ 0.49  0.09 -0.82  0.28]]\n",
      "x = [ 0.05 -0.08  0.08  0.09]\n",
      "True\n",
      "R = [[10.15  7.39  8.67 13.4 ]\n",
      " [ 0.    3.92  6.61  3.56]\n",
      " [ 0.   -0.    1.07  0.25]\n",
      " [-0.   -0.    0.    4.55]]\n",
      "Q = [[ 0.2   0.9   0.3   0.23]\n",
      " [ 0.49 -0.42  0.46  0.61]\n",
      " [ 0.69 -0.02  0.17 -0.7 ]\n",
      " [ 0.49  0.09 -0.82  0.28]]\n",
      "x = [ 0.05 -0.08  0.08  0.09]\n",
      "True\n"
     ]
    }
   ],
   "source": [
    "def BackwardSub(U,b):\n",
    "    x = np.zeros_like(b)\n",
    "    n = len(b)\n",
    "    for m in range(n - 1, -1, -1):\n",
    "        tmp = 0\n",
    "        for i in range(n - m):\n",
    "            tmp += U[m][m+i] * x[m + i]\n",
    "        x[m] = (b[m] - tmp) / U[m][m]\n",
    "    return x\n",
    "\n",
    "A = np.array([[2, 5, 8, 7], [5, 2, 2, 8], [7, 5, 6, 6], [5, 4, 4, 8]])\n",
    "B = np.array([1, 1, 1, 1])\n",
    "\n",
    "# gramschmitz\n",
    "Q = gramschmitz(A,4)\n",
    "R = Q.T @ A\n",
    "x = BackwardSub(R, Q.T@B)\n",
    "print('R = {}'.format(R))\n",
    "print('Q = {}'.format(Q))\n",
    "print('x = {}'.format(x))\n",
    "print(np.allclose(A@x, B))\n",
    "\n",
    "# household\n",
    "Q_t = household(A)\n",
    "R = Q_t@A\n",
    "x = BackwardSub(R, Q_t@B)\n",
    "print('R = {}'.format(R))\n",
    "print('Q = {}'.format(Q_t.T))\n",
    "print('x = {}'.format(x))\n",
    "print(np.allclose(A@x, B))"
   ]
  },
  {
   "cell_type": "markdown",
   "metadata": {},
   "source": [
    "# reference\n",
    "[qr분해 설명 특징](https://ghebook.blogspot.com/2020/07/qr-qr-decomposition.html)"
   ]
  }
 ],
 "metadata": {
  "kernelspec": {
   "display_name": "Python 3",
   "language": "python",
   "name": "python3"
  },
  "language_info": {
   "codemirror_mode": {
    "name": "ipython",
    "version": 3
   },
   "file_extension": ".py",
   "mimetype": "text/x-python",
   "name": "python",
   "nbconvert_exporter": "python",
   "pygments_lexer": "ipython3",
   "version": "3.7.4"
  }
 },
 "nbformat": 4,
 "nbformat_minor": 4
}
