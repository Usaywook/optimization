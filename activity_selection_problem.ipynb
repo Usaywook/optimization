{
 "cells": [
  {
   "cell_type": "markdown",
   "metadata": {},
   "source": [
    "# Activity level selection problem\n",
    "장사를 하면 다음과 같은 과정을 반복한다.  \n",
    "장사꾼은 특정 물건들을 판다.  \n",
    "그리고 특정 물건들은 할인을 하게 된다.  \n",
    "장사꾼의 행동 수준이 자원들의 공급과 수요에 영향을 준다.  \n",
    "장사꾼은 수익을 얻는다.  \n",
    "\n",
    "장사꾼이 결정할 수 없는 내용은 아래와 같다.  \n",
    " - 장사꾼의 행동 수준에 따른 자원들의 공급과 수요 영향  \n",
    " - 자원들의 총량  \n",
    " - 상품들의 가격과 할인가격  \n",
    " - 할인 행동 수준  \n",
    " \n",
    "장사꾼이 결정할 것  \n",
    " - 판매 행동 수준  \n",
    " \n",
    "한정된 resource가 있을때 revenue 를 높이는 action의 수준을 선택하는 문제를 최적화를 통해서 풀어보자.  "
   ]
  },
  {
   "cell_type": "code",
   "execution_count": 1,
   "metadata": {},
   "outputs": [
    {
     "data": {
      "text/plain": [
       "'1.1.7'"
      ]
     },
     "execution_count": 1,
     "metadata": {},
     "output_type": "execute_result"
    }
   ],
   "source": [
    "import numpy as np\n",
    "import matplotlib.pyplot as plt\n",
    "import cvxpy as cp\n",
    "np.set_printoptions(formatter={'float_kind': lambda x: \"{: 0.2f}\".format(x)})\n",
    "# np.set_printoptions(precision=2)\n",
    "cp.__version__"
   ]
  },
  {
   "cell_type": "markdown",
   "metadata": {},
   "source": [
    "## Problem definition\n",
    "\n",
    "notation은 다음과 같다.\n",
    "\n",
    " - 판매 행동 수준 $x > 0$  \n",
    " - 행동 수준 개수: n  \n",
    " - 자원 개수 : m  \n",
    " - 행동과 자원의 상관관계 : A  \n",
    "     > $A_{ij} \\geq 0$ : activity j가 resoure i를 발생   \n",
    "     > $A_{ij} \\leq 0$ : activity j가 resoure i를 소비   \n",
    " - 자원들의 총량: $c^{max}$  \n",
    " - 행동에 대한 기본 가격과 수량 할인 가격 $p > 0,  0 < p^{disc} < p$  \n",
    " - 할인 행동 수준 $q > 0$  \n",
    " - 행동에 대한 수익: $r$  \n",
    " \n",
    "### Design of constraints\n",
    " - Total consumption of resoure i:  \n",
    " > $c_{i} = \\sum_{j=1}^{n}A_{ij}x_{j} $\n",
    " - each resources are limited:\n",
    " > $c_{i} \\leq c_{i}^{max}$\n",
    " \n",
    "위의 상황에서 constraint는 다음과 같다.  \n",
    "$$\n",
    "\\begin{align}\n",
    "\\sum_{j=1}^{n}A_{ij}x_{j} &\\leq c_{i}^{max} \\;\\; for \\; i = 1,\\cdots,m \\\\ \n",
    "&x_{j} > 0 \\;\\; for \\; j = 1,\\cdots,n \\\\ \n",
    "\\end{align}\n",
    "$$\n",
    "\n",
    "matrix form으로는 아래와 같다.\n",
    "$$\n",
    "\\begin{align}\n",
    "Ax &\\leq c^{max} \\\\ \n",
    "x &> 0 \\\\ \n",
    "\\end{align}\n",
    "$$\n",
    "\n",
    "### Design of objective function\n",
    " - 행동에 대한 수익함수는 다음과 같이 정의 할 수 있다.\n",
    "$$\n",
    "r_{j}(x_{j}) = \\begin{cases} \n",
    "p_{j}x_{j} & 0 \\leq x_{j} \\leq q_{j} \\\\\n",
    "p_{j}q_{j} + p_{j}^{disc}(x_{j}-q_{j}) \\geq q_{j}\n",
    "\\end{cases}\n",
    "$$\n",
    "행동 수준이 할인 행동수준보다 낮을 때는 기본가격에 판다.  \n",
    "하지만 높아졌을 때 할인가격에 판다.  \n",
    "수익 그래프의 기울기가 기본가격에서 할인가격으로 바뀐다.  \n",
    "기울기가 감소했으니가 concave한 형태이다.  \n",
    "\n",
    " - Total revenue:\n",
    " > $\\sum_{j=1}^{n}r_{j}(x_{j})$\n",
    " \n",
    "### Optimization problem\n",
    "위에서 디자인한 objective와 constraint를 사용하여 최적화식을 formulation해보자.\n",
    "$$\n",
    "\\underset{x_{1}, \\cdots, x_{n}}{max} \\sum_{j=1}^{n}r_{j}(x_{j})\\;\\; s.t. \\\\\n",
    "\\;\\; \\sum_{j=1}^{n}A_{ij}x_{j} \\leq c_{i}^{max} \\;\\; for \\; i = 1,\\cdots,m \\\\ \n",
    "x_{j} > 0 \\;\\; for \\; j = 1,\\cdots,n \\\\ \n",
    "$$"
   ]
  },
  {
   "cell_type": "markdown",
   "metadata": {},
   "source": [
    "## Implemetation\n",
    "\n",
    "### Initialize values"
   ]
  },
  {
   "cell_type": "code",
   "execution_count": 2,
   "metadata": {},
   "outputs": [],
   "source": [
    "A = np.array([[1, 2, 0, 1],\n",
    "             [0, 0, 3, 1],\n",
    "             [0, 3, 1, 1],\n",
    "             [2, 1, 2, 5],\n",
    "             [1, 0, 3, 2]])\n",
    "cmax = np.array([100, 100, 100, 100, 100]).reshape(-1,1)\n",
    "p = np.array([ 3, 2, 7, 6 ]).reshape(-1,1)\n",
    "pdisc = np.array([2, 1, 4, 2]).reshape(-1,1)\n",
    "q = np.array([4, 10, 5, 10 ]).reshape(-1,1)"
   ]
  },
  {
   "cell_type": "markdown",
   "metadata": {},
   "source": [
    "### Plot revanue function"
   ]
  },
  {
   "cell_type": "code",
   "execution_count": 3,
   "metadata": {},
   "outputs": [
    {
     "data": {
      "text/plain": [
       "<matplotlib.legend.Legend at 0x7f48e5fd1cc0>"
      ]
     },
     "execution_count": 3,
     "metadata": {},
     "output_type": "execute_result"
    },
    {
     "data": {
      "image/png": "[encoded data removed]",
      "text/plain": [
       "<Figure size 432x288 with 1 Axes>"
      ]
     },
     "metadata": {
      "needs_background": "light"
     },
     "output_type": "display_data"
    }
   ],
   "source": [
    "def revenue(x, p, q, pdisc):\n",
    "    a = p * x\n",
    "    b = p * q + pdisc * (x - q)\n",
    "    a = np.expand_dims(a,axis=0)\n",
    "    b = np.expand_dims(b,axis=0)\n",
    "    out = np.concatenate([a,\n",
    "                     b],axis=0)    \n",
    "    out = np.min(out, axis=0)    \n",
    "    return out\n",
    "for i in range(len(p)):\n",
    "    plt.plot(np.arange(1,8,0.1),\n",
    "             revenue(x = np.arange(1,8,0.1),p=p,q=q,pdisc=pdisc)[i], label=str(i))\n",
    "plt.legend()"
   ]
  },
  {
   "cell_type": "markdown",
   "metadata": {},
   "source": [
    "위에 보이듯이 함수가 concave한 형태임을 알 수 있다."
   ]
  },
  {
   "cell_type": "code",
   "execution_count": 4,
   "metadata": {},
   "outputs": [],
   "source": [
    "class activate_selector():    \n",
    "    def __init__(self, A, cmax, p, pdisc, q):\n",
    "        self.A = A # m,n\n",
    "        self.cmax = cmax # m,1\n",
    "        self.p = p # n,1\n",
    "        self.pdisc = pdisc # n,1\n",
    "        self.q = q # n,1\n",
    "        self.m, self.n = A.shape\n",
    "        \n",
    "        self.x = cp.Variable(shape=(self.n,1)) # n,1\n",
    "        self.total_revenue = cp.sum(self.get_revenue(self.x))\n",
    "        self.constraints = [self.A @ self.x <= self.cmax]\n",
    "        self.constraints += [self.x  >= 0]\n",
    "        \n",
    "    def solve(self):\n",
    "        prob = cp.Problem(cp.Maximize(self.total_revenue), constraints=self.constraints)\n",
    "        prob.solve()\n",
    "        \n",
    "    def print_result(self):\n",
    "        print(\"The optimal input is \\n{}\".format(self.x.value))\n",
    "        r = cp.reshape(self.get_revenue(self.x), shape=(self.n,1))\n",
    "        print(\"\\nThe revenue is \\n{}\".format(r.value))\n",
    "        t_r = cp.sum(r)\n",
    "        print(\"\\nThe total revenue is \\n{:0.2f}\".format(t_r.value))\n",
    "        avg_p = r / self.x\n",
    "        print(\"\\nThe average price is \\n{}\".format(avg_p.value))\n",
    "        \n",
    "    def get_revenue(self, x):\n",
    "        a = cp.multiply(self.p, x)\n",
    "        b = self.p * self.q + cp.multiply(self.pdisc,(x - self.q))\n",
    "        out = cp.min(cp.hstack([a,b]), axis=1)\n",
    "        return out\n",
    "             "
   ]
  },
  {
   "cell_type": "code",
   "execution_count": 5,
   "metadata": {},
   "outputs": [
    {
     "name": "stdout",
     "output_type": "stream",
     "text": [
      "The optimal input is \n",
      "[[ 4.00]\n",
      " [ 22.50]\n",
      " [ 31.00]\n",
      " [ 1.50]]\n",
      "\n",
      "The revenue is \n",
      "[[ 12.00]\n",
      " [ 32.50]\n",
      " [ 139.00]\n",
      " [ 9.00]]\n",
      "\n",
      "The total revenue is \n",
      "192.50\n",
      "\n",
      "The average price is \n",
      "[[ 3.00]\n",
      " [ 1.44]\n",
      " [ 4.48]\n",
      " [ 6.00]]\n"
     ]
    }
   ],
   "source": [
    "activate_selector = activate_selector(A, cmax, p, pdisc, q)\n",
    "activate_selector.solve()\n",
    "activate_selector.print_result()"
   ]
  },
  {
   "cell_type": "markdown",
   "metadata": {},
   "source": [
    "###  결과분석\n",
    "3번째 resource의 basic price가 높고 \n",
    "discount activity level이 높으며 수익의 대부분을 차지하기 때문에 \n",
    "3번째 action level이 높은 것을 볼 수 있다.\n",
    "반면 4번째 resource의 할인가격이 기본가격에 비해 매우 낮고\n",
    "많은 자원을 소비하며 수익의 가장 작은 부분을 차지하기 때문에\n",
    "4번째 행동수준이 낮은것을 볼수있다."
   ]
  }
 ],
 "metadata": {
  "kernelspec": {
   "display_name": "cvxpy",
   "language": "python",
   "name": "cvxpy"
  },
  "language_info": {
   "codemirror_mode": {
    "name": "ipython",
    "version": 3
   },
   "file_extension": ".py",
   "mimetype": "text/x-python",
   "name": "python",
   "nbconvert_exporter": "python",
   "pygments_lexer": "ipython3",
   "version": "3.6.9"
  }
 },
 "nbformat": 4,
 "nbformat_minor": 4
}
