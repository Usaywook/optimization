{
 "cells": [
  {
   "cell_type": "markdown",
   "metadata": {},
   "source": [
    "# Parametric Distribution Estimation"
   ]
  },
  {
   "cell_type": "code",
   "execution_count": 1,
   "metadata": {},
   "outputs": [],
   "source": [
    "import cvxpy as cp\n",
    "import numpy as np\n",
    "import matplotlib.pyplot as plt"
   ]
  },
  {
   "cell_type": "markdown",
   "metadata": {},
   "source": [
    "## DATA"
   ]
  },
  {
   "cell_type": "code",
   "execution_count": 2,
   "metadata": {},
   "outputs": [
    {
     "data": {
      "text/plain": [
       "<matplotlib.collections.PathCollection at 0x7faa16a72d68>"
      ]
     },
     "execution_count": 2,
     "metadata": {},
     "output_type": "execute_result"
    },
    {
     "data": {
      "image/png": "[encoded data removed]",
      "text/plain": [
       "<Figure size 432x288 with 1 Axes>"
      ]
     },
     "metadata": {
      "needs_background": "light"
     },
     "output_type": "display_data"
    }
   ],
   "source": [
    "u = np.array([9.5013, 2.3114, 6.0684, 4.8598, 8.9130, 7.6210, 4.5647, 0.1850, 8.2141, 4.4470, 6.1543, 7.9194, 9.2181, 7.3821, 1.7627,\n",
    "4.0571, 9.3547, 9.1690, 4.1027, 8.9365, 0.5789, 3.5287, 8.1317, 0.0986, 1.3889, 2.0277, 1.9872, 6.0379, 2.7219, 1.9881,\n",
    "0.1527, 7.4679, 4.4510, 9.3181, 4.6599, 4.1865, 8.4622, 5.2515, 2.0265, 6.7214, 8.3812, 0.1964, 6.8128, 3.7948, 8.3180,\n",
    "5.0281, 7.0947, 4.2889, 3.0462, 1.8965, 1.9343, 6.8222, 3.0276, 5.4167, 1.5087, 6.9790, 3.7837, 8.6001, 8.5366, 5.9356,\n",
    "4.9655, 8.9977, 8.2163, 6.4491, 8.1797, 6.6023, 3.4197, 2.8973, 3.4119, 5.3408, 7.2711, 3.0929, 8.3850, 5.6807, 3.7041,\n",
    "7.0274, 5.4657, 4.4488, 6.9457, 6.2131, 7.9482, 9.5684, 5.2259, 8.8014, 1.7296, 9.7975, 2.7145, 2.5233, 8.7574, 7.3731,\n",
    "1.3652, 0.1176, 8.9390, 1.9914, 2.9872, 6.6144, 2.8441, 4.6922, 0.6478, 9.8833])\n",
    "y = np.array([1, 0, 1, 1, 1, 1, 0, 0, 1, 0, 1, 1, 1, 1, 0, 0, 1, 1, 0, 1, 0, 0, 1, 0, 0, 0, 0, 0, 0, 0, 0, 1, 1, 1, 0, 0, 1, 1, 0, 0, 1, 0, 1, 0, 1, 1, 1, 0, 0,\n",
    "0, 0, 1, 1, 1, 1, 1, 0, 1, 1, 1, 0, 1, 1, 1, 1, 1, 0, 0, 0, 0, 1, 0, 1, 1, 1, 1, 0, 0, 1, 1, 1, 1, 0, 1, 0, 1, 0, 0, 1, 1, 0, 0, 1, 0, 0, 1, 0, 1, 0, 0])\n",
    "plt.scatter(u,y,marker='.')"
   ]
  },
  {
   "cell_type": "code",
   "execution_count": 3,
   "metadata": {},
   "outputs": [],
   "source": [
    "def sigmoid(z):\n",
    "    return 1/(1 + np.exp(-z))"
   ]
  },
  {
   "cell_type": "code",
   "execution_count": 4,
   "metadata": {},
   "outputs": [
    {
     "name": "stdout",
     "output_type": "stream",
     "text": [
      "\n",
      "The optimal value is -32.97979144010603\n",
      "The optimal w is\n",
      "[ 0.9847752  -4.98195139]\n"
     ]
    }
   ],
   "source": [
    "U = np.stack([u,np.ones_like(u)], axis=1)\n",
    "m, n = U.shape\n",
    "w = cp.Variable(n)\n",
    "log_likelihood = cp.sum(cp.multiply(y, U @ w) - cp.logistic(U @ w))\n",
    "prob = cp.Problem(cp.Maximize(log_likelihood))\n",
    "prob.solve()\n",
    "\n",
    "# Print result.\n",
    "print(\"\\nThe optimal value is\", prob.value)\n",
    "print(\"The optimal w is\")\n",
    "print(w.value)"
   ]
  },
  {
   "cell_type": "code",
   "execution_count": 5,
   "metadata": {},
   "outputs": [],
   "source": [
    "def logistic_model(u, w):\n",
    "    z = np.exp(u.dot(w.value))\n",
    "    return z/(1 + z)"
   ]
  },
  {
   "cell_type": "code",
   "execution_count": 6,
   "metadata": {},
   "outputs": [],
   "source": [
    "i = np.arange(u.min(),u.max(),0.2)\n",
    "j = np.stack([i,np.ones_like(i)], axis=1)\n",
    "k = logistic_model(j,w)"
   ]
  },
  {
   "cell_type": "code",
   "execution_count": 9,
   "metadata": {},
   "outputs": [
    {
     "data": {
      "text/plain": [
       "Text(0, 0.5, 'prob(y=1)')"
      ]
     },
     "execution_count": 9,
     "metadata": {},
     "output_type": "execute_result"
    },
    {
     "data": {
      "image/png": "[encoded data removed]",
      "text/plain": [
       "<Figure size 432x288 with 1 Axes>"
      ]
     },
     "metadata": {
      "needs_background": "light"
     },
     "output_type": "display_data"
    }
   ],
   "source": [
    "plt.scatter(u,y,marker='.')\n",
    "plt.plot(i,k,color='r')\n",
    "plt.xlabel(\"u\")\n",
    "plt.ylabel(\"prob(y=1)\")"
   ]
  },
  {
   "cell_type": "markdown",
   "metadata": {},
   "source": [
    "주어진 관측값 (파란점)에 대해서 logistic model에 대한 파라미터를 추정하여 그린 결과이다.   \n",
    "구해진 분포에 대해서 threshold를 정하면 labeling을 할 수 있다."
   ]
  },
  {
   "cell_type": "code",
   "execution_count": null,
   "metadata": {},
   "outputs": [],
   "source": []
  }
 ],
 "metadata": {
  "kernelspec": {
   "display_name": "cvxpy",
   "language": "python",
   "name": "cvxpy"
  },
  "language_info": {
   "codemirror_mode": {
    "name": "ipython",
    "version": 3
   },
   "file_extension": ".py",
   "mimetype": "text/x-python",
   "name": "python",
   "nbconvert_exporter": "python",
   "pygments_lexer": "ipython3",
   "version": "3.6.9"
  }
 },
 "nbformat": 4,
 "nbformat_minor": 4
}
