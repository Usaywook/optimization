{
 "cells": [
  {
   "cell_type": "code",
   "execution_count": 4,
   "metadata": {},
   "outputs": [],
   "source": [
    "import numpy as np\n",
    "import math\n",
    "import matplotlib.pyplot as plt"
   ]
  },
  {
   "cell_type": "markdown",
   "metadata": {},
   "source": [
    "# Make Ellipsoid"
   ]
  },
  {
   "cell_type": "code",
   "execution_count": 92,
   "metadata": {},
   "outputs": [],
   "source": [
    "def get_ellipsoid(theta, pos, a, b, debug=False):\n",
    "    theta = np.radians(theta)\n",
    "    v1 = [np.cos(theta), np.sin(theta)]\n",
    "    v2 = [-np.sin(theta), np.cos(theta)]\n",
    "    V = np.vstack([v1,v2]).T\n",
    "    D = np.zeros((2,2))\n",
    "    np.fill_diagonal(D,[a,b])\n",
    "    P = np.matmul(np.matmul(V,D),V.T)\n",
    "    if debug:\n",
    "        plt.axis('equal')\n",
    "        plt.arrow(0,0,v1[0],v1[1], color='k')\n",
    "        plt.arrow(0,0,v2[0],v2[1], color='k')\n",
    "    points = np.array([[j*np.cos(i), j*np.sin(i)] for i in np.arange(0,2*np.pi,0.01) for j in np.arange(0,01.1,0.01)])\n",
    "    if debug:\n",
    "        plt.plot(points[:,0], points[:,1], alpha=0.5)\n",
    "        plt.arrow(pos[0],pos[1],a*v1[0],a*v1[1], color='k')\n",
    "        plt.arrow(pos[0],pos[1],b*v2[0],b*v2[1], color='k')\n",
    "    elipsoids = pos + np.matmul(points,P)\n",
    "    if debug:\n",
    "        plt.plot(elipsoids[:,0], elipsoids[:,1], 'r', alpha=0.5)\n",
    "    return elipsoids"
   ]
  },
  {
   "cell_type": "code",
   "execution_count": 93,
   "metadata": {},
   "outputs": [],
   "source": [
    "theta = [30, 120, -60, -150]\n",
    "a = 4\n",
    "b = 2\n",
    "pos = np.array([[7,7],[-4,5],[5,-4],[-6,-5]])\n",
    "\n",
    "for x,y in zip(*(theta,pos)):\n",
    "    get_ellipsoid(x, y, a, b)"
   ]
  },
  {
   "cell_type": "code",
   "execution_count": 94,
   "metadata": {},
   "outputs": [],
   "source": [
    "def get_graph(points,a,b,epigrpah=False,debug=False):\n",
    "    x = points[:,0]\n",
    "    y = points[:,1]\n",
    "    if epigrpah:\n",
    "        graph = points[y >= a * x + b]\n",
    "    else:\n",
    "        graph = points[y <= a * x + b]\n",
    "    if debug:\n",
    "        plt.plot(graph[:,0], graph[:,1], 'b', alpha=0.1)\n",
    "    return graph"
   ]
  },
  {
   "cell_type": "markdown",
   "metadata": {},
   "source": [
    "# Find Intersection"
   ]
  },
  {
   "cell_type": "code",
   "execution_count": 96,
   "metadata": {},
   "outputs": [
    {
     "data": {
      "image/png": "[encoded data removed]",
      "text/plain": [
       "<Figure size 432x288 with 1 Axes>"
      ]
     },
     "metadata": {
      "needs_background": "light"
     },
     "output_type": "display_data"
    }
   ],
   "source": [
    "ellipsoid = get_ellipsoid(0,[0,0],4,2)\n",
    "f1 = get_graph(ellipsoid, -0.5, 2, False,True)\n",
    "f2 = get_graph(ellipsoid, 2, 4, False,True)\n",
    "f3 = get_graph(ellipsoid, 0.5, 2, False,True)\n",
    "f4 = get_graph(ellipsoid, 0.5, -2, True,True)"
   ]
  },
  {
   "cell_type": "code",
   "execution_count": 97,
   "metadata": {},
   "outputs": [
    {
     "data": {
      "image/png": "[encoded data removed]",
      "text/plain": [
       "<Figure size 432x288 with 1 Axes>"
      ]
     },
     "metadata": {
      "needs_background": "light"
     },
     "output_type": "display_data"
    }
   ],
   "source": [
    "f1 = get_graph(ellipsoid, -0.5, 2, False,False)\n",
    "f2 = get_graph(f1, 2, 4, False,False)\n",
    "f3 = get_graph(f2, 0.5, 2, False,False)\n",
    "f4 = get_graph(f3, 0.5, -2, True,True)"
   ]
  },
  {
   "cell_type": "code",
   "execution_count": null,
   "metadata": {},
   "outputs": [],
   "source": []
  }
 ],
 "metadata": {
  "kernelspec": {
   "display_name": "Python 3",
   "language": "python",
   "name": "python3"
  },
  "language_info": {
   "codemirror_mode": {
    "name": "ipython",
    "version": 3
   },
   "file_extension": ".py",
   "mimetype": "text/x-python",
   "name": "python",
   "nbconvert_exporter": "python",
   "pygments_lexer": "ipython3",
   "version": "3.7.4"
  }
 },
 "nbformat": 4,
 "nbformat_minor": 4
}
